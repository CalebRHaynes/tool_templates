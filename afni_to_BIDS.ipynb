{
 "cells": [
  {
   "cell_type": "code",
   "execution_count": 1,
   "metadata": {},
   "outputs": [],
   "source": [
    "'''\n",
    "Caleb Haynes 6/8/2020 for David Smith & Johanna Jarcho\n",
    "Converts a set of behavioral text files in the AFNI format (seperated txt files) into one 'BIDS' standard file per participant\n",
    "'''\n",
    "import pandas as pd\n",
    "import glob\n",
    "import csv\n",
    "from numpy import loadtxt"
   ]
  },
  {
   "cell_type": "code",
   "execution_count": 2,
   "metadata": {},
   "outputs": [],
   "source": [
    "#make a list of all subject level directories to parse over\n",
    "sub_file_list = glob.glob('*/*')"
   ]
  },
  {
   "cell_type": "code",
   "execution_count": 3,
   "metadata": {},
   "outputs": [],
   "source": [
    "'''\n",
    "main function to call in loop, converts a text file to a pandas dataframe with the BIDS format we want with columns for onset, \n",
    "duration and trial_type. We will want to join the dataframes per participant in the loop so we can sort by onset and maintain \n",
    "correct durations and task_types. \n",
    "''' \n",
    "#txt path string, duration int, trial_string\n",
    "def fp_to_pd(txt_path, duration, trial_type):\n",
    "        #I use glob.glob in the loop to find the file. This creates a list object so we use first item in list\n",
    "        #([0]) and use numpy's loadtext module to grab the data inside the txt file. \n",
    "        txt_path = loadtxt(txt_path[0], delimiter=\" \")\n",
    "        #create an initial dictionary to load into pandas with our first column\n",
    "        txt_dict = {'onset': txt_path}\n",
    "        #instantiate pandas df with our dict\n",
    "        df = pd.DataFrame(data = txt_dict)\n",
    "        #add column for duration values\n",
    "        df['duration'] = duration\n",
    "        #add column with the trial_type\n",
    "        df['trial_type'] = trial_type\n",
    "        return df"
   ]
  },
  {
   "cell_type": "code",
   "execution_count": 49,
   "metadata": {},
   "outputs": [],
   "source": [
    "for i in sub_file_list:\n",
    "    #itertate over each subject, make a path string for each type of file, here decision, positive feedback, and negative \n",
    "    #feedback. \n",
    "    f_social_dec = glob.glob(i + '/social/decision/decisionPhase_social_*')\n",
    "    f_social_fb_pos = glob.glob(i + '/social/feedback/pos*')\n",
    "    f_social_fb_neg = glob.glob(i + '/social/feedback/neg*')\n",
    "    \n",
    "    f_doors_dec = glob.glob(i + '/doors/decision/decisionPhase_doors_*')\n",
    "    f_doors_fb_pos = glob.glob(i + '/doors/feedback/pos*')\n",
    "    f_doors_fb_neg = glob.glob(i + '/doors/feedback/neg*')\n",
    "    \n",
    "    #call function with each file path string, duration, and trial_type\n",
    "    s_df_dec = fp_to_pd(f_social_dec, 3, 'decision')\n",
    "    s_df_fb_pos = fp_to_pd(f_social_fb_pos, 1, 'win')\n",
    "    s_df_fb_neg = fp_to_pd(f_social_fb_neg, 1, 'loss')\n",
    "    \n",
    "    d_df_dec = fp_to_pd(f_doors_dec, 3, 'decision')\n",
    "    d_df_fb_pos = fp_to_pd(f_doors_fb_pos, 1, 'win')\n",
    "    d_df_fb_neg = fp_to_pd(f_doors_fb_neg, 1, 'loss')\n",
    "    \n",
    "    #list of dataframes, merge together\n",
    "    s_df_list = [s_df_dec,s_df_fb_pos,s_df_fb_neg]\n",
    "    s_df_merge = pd.concat(s_df_list)\n",
    "    \n",
    "    d_df_list = [d_df_dec,d_df_fb_pos,d_df_fb_neg]\n",
    "    d_df_merge = pd.concat(d_df_list)\n",
    "    #sort rows by onset values and reset index\n",
    "    df_soc = s_df_merge.sort_values(by=['onset']).reset_index()\n",
    "    df_doors = d_df_merge.sort_values(by=['onset']).reset_index()\n",
    "    \n",
    "    soc_filename = f'sub-2{i[-3:]}_face-A.tsv'\n",
    "    door_filename = f'sub-2{i[-3:]}_image-A.tsv'\n",
    "    \n",
    "    df_soc.to_csv(soc_filename, index=False, sep ='\\t')\n",
    "    df_doors.to_csv(door_filename, index=False, sep ='\\t')"
   ]
  },
  {
   "cell_type": "code",
   "execution_count": null,
   "metadata": {},
   "outputs": [],
   "source": []
  }
 ],
 "metadata": {
  "kernelspec": {
   "display_name": "Python 3",
   "language": "python",
   "name": "python3"
  },
  "language_info": {
   "codemirror_mode": {
    "name": "ipython",
    "version": 3
   },
   "file_extension": ".py",
   "mimetype": "text/x-python",
   "name": "python",
   "nbconvert_exporter": "python",
   "pygments_lexer": "ipython3",
   "version": "3.6.8"
  }
 },
 "nbformat": 4,
 "nbformat_minor": 4
}
